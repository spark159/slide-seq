{
 "cells": [
  {
   "cell_type": "markdown",
   "id": "59e8f1a8-8a72-422b-abd6-e245859e8bdb",
   "metadata": {
    "collapsed": false
   },
   "source": [
    "# Yeast +1 library"
   ]
  },
  {
   "cell_type": "markdown",
   "id": "ae152872-2796-43e5-a3ca-53202fd45432",
   "metadata": {
    "collapsed": false
   },
   "source": [
    "# Overview"
   ]
  },
  {
   "cell_type": "code",
   "execution_count": 1,
   "id": "be7b69c9-317b-43ef-8100-52bdae25bc7e",
   "metadata": {
    "collapsed": false
   },
   "outputs": [],
   "source": [
    "# default modules\n",
    "import sys\n",
    "import math\n",
    "import random\n",
    "import pickle"
   ]
  },
  {
   "cell_type": "code",
   "execution_count": 2,
   "id": "f7362136-8df7-4bed-a0c1-fb82bfa1dc5a",
   "metadata": {
    "collapsed": false
   },
   "outputs": [],
   "source": [
    "# external modules\n",
    "import numpy as np\n",
    "import matplotlib.pyplot as plt\n",
    "import matplotlib.cm as cm\n",
    "import matplotlib.ticker as tck"
   ]
  },
  {
   "cell_type": "code",
   "execution_count": 3,
   "id": "440628d4-671d-4ff0-8e70-ce5f14040270",
   "metadata": {
    "collapsed": false
   },
   "outputs": [],
   "source": [
    "# increase figure resolution\n",
    "plt.rcParams['figure.dpi'] = 200"
   ]
  },
  {
   "cell_type": "code",
   "execution_count": 4,
   "id": "6ed8f88f-0c07-4016-82ee-bc192d15189f",
   "metadata": {
    "collapsed": false
   },
   "outputs": [],
   "source": [
    "# custom modules\n",
    "import analysis_final as analysis\n",
    "from SliderClass_final import Slider\n",
    "import graph_final as graph"
   ]
  },
  {
   "cell_type": "code",
   "execution_count": 5,
   "id": "93915a26-139a-49d4-9f2a-330f1568e52c",
   "metadata": {
    "collapsed": false
   },
   "outputs": [],
   "source": [
    "# working directory\n",
    "#path = \"/home/spark159/../../media/spark159/sw/slide_seq_data(2021.07.14)/\"\n",
    "path = \"./\""
   ]
  },
  {
   "cell_type": "code",
   "execution_count": 6,
   "id": "d22be076-d49e-4ad2-8a1e-6bc634ca8672",
   "metadata": {
    "collapsed": false
   },
   "outputs": [],
   "source": [
    "# basic parameters\n",
    "tlen = 225 # sliding DNA template length\n",
    "NCPlen = 147 # nucleosomal DNA length"
   ]
  },
  {
   "cell_type": "code",
   "execution_count": 7,
   "id": "e5b0821b-f133-4e47-8442-ba22f4e51331",
   "metadata": {
    "collapsed": false
   },
   "outputs": [],
   "source": [
    "# load +1 library data\n",
    "SD_sliders = pickle.load(open(path+'Plusone_SD_corrected'+'.pickle'))\n",
    "HS_sliders = pickle.load(open(path+'Plusone_HS_corrected'+'.pickle'))\n",
    "Chd1_sliders = pickle.load(open(path+'Plusone_HS+Chd1_corrected'+'.pickle'))"
   ]
  },
  {
   "cell_type": "code",
   "execution_count": 8,
   "id": "4592a284-0a70-4963-8fbc-265e6f655eea",
   "metadata": {
    "collapsed": false
   },
   "outputs": [],
   "source": [
    "# set target ids\n",
    "common_ids = list(set(SD_sliders.keys()) & set(HS_sliders.keys()) & set(Chd1_sliders.keys()))\n",
    "common_ids = sorted([int(id) for id in common_ids])\n",
    "common_ids = [str(id) for id in common_ids]\n",
    "random.seed(0)\n",
    "target_ids = random.sample(common_ids, 40)"
   ]
  },
  {
   "cell_type": "code",
   "execution_count": 52,
   "id": "03e2610a-7e5f-4d99-b1b0-16adcda0943d",
   "metadata": {
    "collapsed": false
   },
   "outputs": [],
   "source": [
    "# sort ids\n",
    "common_ids = sorted([int(id) for id in common_ids])\n",
    "common_ids = [str(id) for id in common_ids]    \n",
    "    "
   ]
  },
  {
   "cell_type": "code",
   "execution_count": 53,
   "id": "0369f70e-bad4-4120-ab97-47622776899a",
   "metadata": {
    "collapsed": false
   },
   "outputs": [],
   "source": [
    "# write dyad signal\n",
    "def write_dyad_sig (sliders,\n",
    "                    ids,\n",
    "                    note=''):\n",
    "    out_fname = 'dyad_corrected_%s.txt' % (note)\n",
    "    f = open(out_fname, 'w')\n",
    "    for id in ids:\n",
    "        print >> f, '>%s' % (id)\n",
    "        dyad_sig = sliders[id].get_dyadmap()\n",
    "        dyad_sig = [str(value) for value in dyad_sig]\n",
    "        print >> f, ','.join(dyad_sig)\n",
    "    f.close()"
   ]
  },
  {
   "cell_type": "code",
   "execution_count": 54,
   "id": "6fca1aec-6a43-43cc-97e7-d20cac160bc4",
   "metadata": {
    "collapsed": false
   },
   "outputs": [],
   "source": [
    "write_dyad_sig (SD_sliders, common_ids, note='SD')\n",
    "write_dyad_sig (HS_sliders, common_ids, note='HS')\n",
    "write_dyad_sig (Chd1_sliders, common_ids, note='HS+Chd1')\n"
   ]
  },
  {
   "cell_type": "code",
   "execution_count": 32,
   "id": "d9aa54df-1432-4506-aae1-e7e51ea7e721",
   "metadata": {
    "collapsed": false
   },
   "outputs": [
    {
     "data": {
      "image/png": "[encoded data removed]",
      "text/plain": [
       "<Figure size 300x530.667 with 1 Axes>"
      ]
     },
     "metadata": {
      "needs_background": "light"
     },
     "output_type": "display_data"
    },
    {
     "data": {
      "text/plain": [
       "0.0"
      ]
     },
     "execution_count": 32,
     "metadata": {},
     "output_type": "execute_result"
    }
   ],
   "source": [
    "# dyad map (SD)\n",
    "note = 'SD'\n",
    "graph.plot_map(SD_sliders,\n",
    "               Slider.KDE,\n",
    "               ids=target_ids, \n",
    "               mark=None,\n",
    "               cmap='YlGnBu',\n",
    "               thickness=[8,2,2], \n",
    "               xticks=[[i+tlen/2 for i in range(-100, 101, 20)],\n",
    "                       [str(i) for i in range(-100, 101, 20)]], \n",
    "               figscale=150,\n",
    "               fontsize=5,\n",
    "               save=False,\n",
    "               note=note,\n",
    "               scale=100,\n",
    "               band_width=1)[0][0]"
   ]
  },
  {
   "cell_type": "code",
   "execution_count": 33,
   "id": "0f656274-38bc-4f6c-93fe-0605a9d59498",
   "metadata": {
    "collapsed": false
   },
   "outputs": [
    {
     "data": {
      "image/png": "[encoded data removed]",
      "text/plain": [
       "<Figure size 300x530.667 with 1 Axes>"
      ]
     },
     "metadata": {
      "needs_background": "light"
     },
     "output_type": "display_data"
    },
    {
     "data": {
      "text/plain": [
       "0.0"
      ]
     },
     "execution_count": 33,
     "metadata": {},
     "output_type": "execute_result"
    }
   ],
   "source": [
    "# dyad map (HS)\n",
    "note = 'HS'\n",
    "graph.plot_map(HS_sliders,\n",
    "               Slider.KDE,\n",
    "               ids=target_ids, \n",
    "               mark=None,\n",
    "               cmap='YlGnBu',\n",
    "               thickness=[8,2,2], \n",
    "               xticks=[[i+tlen/2 for i in range(-100, 101, 20)],\n",
    "                       [str(i) for i in range(-100, 101, 20)]], \n",
    "               figscale=150,\n",
    "               fontsize=5,\n",
    "               save=False,\n",
    "               note=note,\n",
    "               scale=100,\n",
    "               band_width=1)[0][0]"
   ]
  },
  {
   "cell_type": "code",
   "execution_count": 34,
   "id": "ebf779ec-c4f8-4336-9c5f-f873a3c1d091",
   "metadata": {
    "collapsed": false,
    "scrolled": true
   },
   "outputs": [
    {
     "data": {
      "image/png": "[encoded data removed]",
      "text/plain": [
       "<Figure size 300x530.667 with 1 Axes>"
      ]
     },
     "metadata": {
      "needs_background": "light"
     },
     "output_type": "display_data"
    },
    {
     "data": {
      "text/plain": [
       "0.0"
      ]
     },
     "execution_count": 34,
     "metadata": {},
     "output_type": "execute_result"
    }
   ],
   "source": [
    "# dyad map (HS+Chd1)\n",
    "note = 'HS+Chd1'\n",
    "graph.plot_map(Chd1_sliders,\n",
    "               Slider.KDE,\n",
    "               ids=target_ids, \n",
    "               mark=None,\n",
    "               cmap='YlGnBu',\n",
    "               thickness=[8,2,2], \n",
    "               xticks=[[i+tlen/2 for i in range(-100, 101, 20)],\n",
    "                       [str(i) for i in range(-100, 101, 20)]], \n",
    "               figscale=150,\n",
    "               fontsize=5,\n",
    "               save=False,\n",
    "               note=note,\n",
    "               scale=100,\n",
    "               band_width=1)[0][0]"
   ]
  },
  {
   "cell_type": "code",
   "execution_count": 12,
   "id": "7871c1c4-b990-4104-9fb8-983b350cddbc",
   "metadata": {
    "collapsed": false
   },
   "outputs": [],
   "source": [
    "## plot cleavages and dyad signals (SD)\n",
    "#graph.plot_sig(SD_sliders, [Slider.get_dyadmap, Slider.get_top_cutmap, Slider.get_bottom_cutmap], \n",
    "#               ids=target_ids, label=['Dyad', 'Top', 'Bottom'], color=['Blue', 'tab:green', 'tab:orange'], alpha=[1, 0.5, 0.5], \n",
    "#               xticks=[[i+tlen/2 for i in range(-100, 101, 20)], [str(i) for i in range(-100, 101, 20)]])"
   ]
  },
  {
   "cell_type": "code",
   "execution_count": 13,
   "id": "52930884-c46e-4353-b8c9-23ac56a14981",
   "metadata": {
    "collapsed": false
   },
   "outputs": [],
   "source": [
    "## plot cleavages and dyad signals (HS)\n",
    "#graph.plot_sig(HS_sliders, [Slider.get_dyadmap, Slider.get_top_cutmap, Slider.get_bottom_cutmap], \n",
    "#               ids=target_ids, label=['Dyad', 'Top', 'Bottom'], color=['Blue', 'tab:green', 'tab:orange'], alpha=[1, 0.5, 0.5], \n",
    "#               xticks=[[i+tlen/2 for i in range(-100, 101, 20)], [str(i) for i in range(-100, 101, 20)]])"
   ]
  },
  {
   "cell_type": "code",
   "execution_count": 14,
   "id": "44823c79-94e3-4751-ae4e-344463ada291",
   "metadata": {
    "collapsed": false
   },
   "outputs": [],
   "source": [
    "## plot cleavages and dyad signals (HS+Chd1)\n",
    "#graph.plot_sig(Chd1_sliders, [Slider.get_dyadmap, Slider.get_top_cutmap, Slider.get_bottom_cutmap], \n",
    "#               ids=target_ids, label=['Dyad', 'Top', 'Bottom'], color=['Blue', 'tab:green', 'tab:orange'], alpha=[1, 0.5, 0.5], \n",
    "#               xticks=[[i+tlen/2 for i in range(-100, 101, 20)], [str(i) for i in range(-100, 101, 20)]])"
   ]
  },
  {
   "cell_type": "code",
   "execution_count": 46,
   "id": "4ee74195-2a8a-49ad-950a-91fe811304db",
   "metadata": {
    "collapsed": false
   },
   "outputs": [],
   "source": [
    "# save cleavages and dyad signals (SD)\n",
    "graph.plot_sig(SD_sliders,\n",
    "               #[Slider.get_dyadmap, Slider.get_top_cutmap, Slider.get_bottom_cutmap],\n",
    "               [Slider.get_dyadmap],\n",
    "               ids=common_ids,\n",
    "               label=['Dyad', 'Top', 'Bottom'], \n",
    "               color=['Blue', 'tab:green', 'tab:orange'],\n",
    "               alpha=[1, 0.5, 0.5], \n",
    "               xticks=[[i+tlen/2 for i in range(-100, 101, 20)],\n",
    "                       [str(i) for i in range(-100, 101, 20)]], \n",
    "               save='pdf',\n",
    "               note='_SD')"
   ]
  },
  {
   "cell_type": "code",
   "execution_count": 47,
   "id": "ce15f61b-34cd-4c04-b7b6-0f353bc52acc",
   "metadata": {
    "collapsed": false
   },
   "outputs": [],
   "source": [
    "# save cleavages and dyad signals (HS)\n",
    "graph.plot_sig(HS_sliders,\n",
    "               #[Slider.get_dyadmap, Slider.get_top_cutmap, Slider.get_bottom_cutmap],\n",
    "               [Slider.get_dyadmap],\n",
    "               ids=common_ids,\n",
    "               label=['Dyad', 'Top', 'Bottom'], \n",
    "               color=['Blue', 'tab:green', 'tab:orange'],\n",
    "               alpha=[1, 0.5, 0.5], \n",
    "               xticks=[[i+tlen/2 for i in range(-100, 101, 20)],\n",
    "                       [str(i) for i in range(-100, 101, 20)]], \n",
    "               save='pdf',\n",
    "               note='_HS')"
   ]
  },
  {
   "cell_type": "code",
   "execution_count": 48,
   "id": "4578ac61-1746-4b3e-ad27-4aba631c5447",
   "metadata": {
    "collapsed": false
   },
   "outputs": [],
   "source": [
    "# save cleavages and dyad signals (HS+Chd1)\n",
    "graph.plot_sig(Chd1_sliders,\n",
    "               #[Slider.get_dyadmap, Slider.get_top_cutmap, Slider.get_bottom_cutmap],\n",
    "               [Slider.get_dyadmap],\n",
    "               ids=common_ids,\n",
    "               label=['Dyad', 'Top', 'Bottom'], \n",
    "               color=['Blue', 'tab:green', 'tab:orange'],\n",
    "               alpha=[1, 0.5, 0.5], \n",
    "               xticks=[[i+tlen/2 for i in range(-100, 101, 20)],\n",
    "                       [str(i) for i in range(-100, 101, 20)]], \n",
    "               save='pdf',\n",
    "               note='_HS+Chd1')"
   ]
  },
  {
   "cell_type": "code",
   "execution_count": 18,
   "id": "b9641c97-2ece-4695-af08-61e0f812d2e8",
   "metadata": {
    "collapsed": false
   },
   "outputs": [],
   "source": [
    "# get averaged psig for all sequences\n",
    "psigs1, psigs2, psigs3 = [], [], []\n",
    "for id in common_ids:\n",
    "    psig1 = SD_sliders[id].get_psig()\n",
    "    psig2 = HS_sliders[id].get_psig()\n",
    "    psig3 = Chd1_sliders[id].get_psig()\n",
    "    psigs1.append(psig1)\n",
    "    psigs2.append(psig2)\n",
    "    psigs3.append(psig3)\n",
    "mean_psig1 = np.asarray(psigs1).mean(axis=0)\n",
    "mean_psig2 = np.asarray(psigs2).mean(axis=0)\n",
    "mean_psig3 = np.asarray(psigs3).mean(axis=0)"
   ]
  },
  {
   "cell_type": "code",
   "execution_count": 19,
   "id": "13e4d146-6741-4607-b46d-a2e762425476",
   "metadata": {
    "collapsed": false
   },
   "outputs": [],
   "source": [
    "# plot psig\n",
    "def plot_sig (sig, color='b', note=''):\n",
    "    fig = plt.figure(figsize=(2, 1))\n",
    "    plt.plot(sig, color, lw=0.8)\n",
    "    ax = plt.gca()\n",
    "    plt.xticks([i+tlen/2 for i in range(-100, 101, 20)], [str(i) for i in range(-100, 101, 20)])\n",
    "    ax.tick_params(axis='x', labelsize=5)\n",
    "    ax.tick_params(axis='y', labelsize=5)\n",
    "    ax.xaxis.set_minor_locator(tck.AutoMinorLocator(2))\n",
    "    plt.savefig('p_sig' + '_' + note + '.svg', format='svg', bbox_inches='tight')\n",
    "    plt.show()\n",
    "    plt.close"
   ]
  },
  {
   "cell_type": "code",
   "execution_count": 20,
   "id": "d7edff86-3ec3-44f7-963c-673d2501e18b",
   "metadata": {
    "collapsed": false
   },
   "outputs": [
    {
     "name": "stdout",
     "output_type": "stream",
     "text": [
      "mean SD\n"
     ]
    },
    {
     "data": {
      "image/png": "[encoded data removed]",
      "text/plain": [
       "<Figure size 400x200 with 1 Axes>"
      ]
     },
     "metadata": {
      "needs_background": "light"
     },
     "output_type": "display_data"
    }
   ],
   "source": [
    "print 'mean SD'\n",
    "plot_sig(mean_psig1, color='k', note='mean_SD')"
   ]
  },
  {
   "cell_type": "code",
   "execution_count": 21,
   "id": "9a380e28-b15b-47f6-9b5a-9e50e5742e64",
   "metadata": {
    "collapsed": false
   },
   "outputs": [
    {
     "name": "stdout",
     "output_type": "stream",
     "text": [
      "mean HS\n"
     ]
    },
    {
     "data": {
      "image/png": "[encoded data removed]",
      "text/plain": [
       "<Figure size 400x200 with 1 Axes>"
      ]
     },
     "metadata": {
      "needs_background": "light"
     },
     "output_type": "display_data"
    }
   ],
   "source": [
    "print 'mean HS'\n",
    "plot_sig(mean_psig2, color='k', note='mean_HS')"
   ]
  },
  {
   "cell_type": "code",
   "execution_count": 22,
   "id": "55caddbd-04ac-4a0a-a5d4-4e723df33deb",
   "metadata": {
    "collapsed": false
   },
   "outputs": [
    {
     "name": "stdout",
     "output_type": "stream",
     "text": [
      "mean Chd1\n"
     ]
    },
    {
     "data": {
      "image/png": "[encoded data removed]",
      "text/plain": [
       "<Figure size 400x200 with 1 Axes>"
      ]
     },
     "metadata": {
      "needs_background": "light"
     },
     "output_type": "display_data"
    }
   ],
   "source": [
    "print 'mean Chd1'\n",
    "plot_sig(mean_psig3, color='k', note='mean_Chd1')"
   ]
  },
  {
   "cell_type": "code",
   "execution_count": 22,
   "id": "1edc21f7-170a-41f1-b3c5-debc0881f3be",
   "metadata": {
    "collapsed": false
   },
   "outputs": [],
   "source": []
  }
 ],
 "metadata": {
  "kernelspec": {
   "argv": [
    "python",
    "-m",
    "ipykernel_launcher",
    "-f",
    "{connection_file}"
   ],
   "display_name": "Python 2",
   "env": null,
   "interrupt_mode": "signal",
   "language": "python",
   "metadata": null,
   "name": "python2"
  },
  "language_info": {
   "codemirror_mode": {
    "name": "ipython",
    "version": 2
   },
   "file_extension": ".py",
   "mimetype": "text/x-python",
   "name": "python",
   "nbconvert_exporter": "python",
   "pygments_lexer": "ipython2",
   "version": "2.7.18"
  },
  "name": "Plusonelib_overview.ipynb"
 },
 "nbformat": 4,
 "nbformat_minor": 2
}
