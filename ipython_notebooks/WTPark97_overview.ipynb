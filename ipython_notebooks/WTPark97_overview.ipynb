{
 "cells": [
  {
   "attachments": {},
   "cell_type": "markdown",
   "metadata": {},
   "source": [
    "# WT 601"
   ]
  },
  {
   "attachments": {},
   "cell_type": "markdown",
   "metadata": {},
   "source": [
    "# Overview"
   ]
  },
  {
   "cell_type": "code",
   "execution_count": 67,
   "metadata": {},
   "outputs": [],
   "source": [
    "# default modules\n",
    "import sys\n",
    "import math\n",
    "import random\n",
    "import pickle"
   ]
  },
  {
   "cell_type": "code",
   "execution_count": 68,
   "metadata": {},
   "outputs": [],
   "source": [
    "# external modules\n",
    "import numpy as np\n",
    "import matplotlib.pyplot as plt\n",
    "import matplotlib.cm as cm"
   ]
  },
  {
   "cell_type": "code",
   "execution_count": 69,
   "metadata": {},
   "outputs": [],
   "source": [
    "# increase figure resolution\n",
    "plt.rcParams['figure.dpi'] = 200"
   ]
  },
  {
   "cell_type": "code",
   "execution_count": 70,
   "metadata": {},
   "outputs": [],
   "source": [
    "# custom modules\n",
    "import analysis_final as analysis\n",
    "from SliderClass_final import Slider\n",
    "import graph_final as graph"
   ]
  },
  {
   "cell_type": "code",
   "execution_count": 71,
   "metadata": {},
   "outputs": [],
   "source": [
    "# working directory\n",
    "path = \"/home/spark159/../../media/spark159/sw/slide_seq_data(2021.07.14)/\""
   ]
  },
  {
   "cell_type": "code",
   "execution_count": 72,
   "metadata": {},
   "outputs": [],
   "source": [
    "# basic parameters\n",
    "tlen = 225 # sliding DNA template length\n",
    "NCPlen = 147 # nucleosomal DNA length"
   ]
  },
  {
   "cell_type": "code",
   "execution_count": 73,
   "metadata": {},
   "outputs": [],
   "source": [
    "def read_data(fname):\n",
    "    id_slider = {}\n",
    "    id = None\n",
    "    for line in open(fname):\n",
    "        line = line.strip()\n",
    "        if not line:\n",
    "            continue\n",
    "        if line.startswith('>'):\n",
    "            if id != None:\n",
    "                id_slider[id] = Slider(id = id,\n",
    "                                       ref_length = 225,\n",
    "                                       tlen = 225,\n",
    "                                       left_offset = 53,\n",
    "                                       right_offset = 53,\n",
    "                                       seq = 'N',\n",
    "                                       win = (1,2),\n",
    "                                       dyadmap = dyadmap,\n",
    "                                       left_cutmap = left_cutmap, \n",
    "                                       right_cutmap = right_cutmap,\n",
    "                                       MGW = '',\n",
    "                                       HelT = '',\n",
    "                                       ProT = '',\n",
    "                                       Roll = '')\n",
    "            id = line[1:]\n",
    "            continue\n",
    "        if line.startswith('@'):\n",
    "            key = line[1:]\n",
    "            continue\n",
    "        if key == 'Sequence':\n",
    "            seq = line\n",
    "        elif key == 'TopCleavageCounts':\n",
    "            left_cutmap = [float(value) for value in line.split(',')]\n",
    "        elif key == 'BottomCleavageCounts':\n",
    "            right_cutmap = [float(value) for value in line.split(',')]\n",
    "        elif key == 'PositioningSignal':\n",
    "            dyadmap = [float(value) for value in line.split(',')]\n",
    "    \n",
    "    id_slider[id] = Slider(id = id,\n",
    "                           ref_length = 225,\n",
    "                           tlen = 225,\n",
    "                           left_offset = 53,\n",
    "                           right_offset = 53,\n",
    "                           seq = 'N',\n",
    "                           win = (1,2),\n",
    "                           dyadmap = dyadmap,\n",
    "                           left_cutmap = left_cutmap, \n",
    "                           right_cutmap = right_cutmap,\n",
    "                           MGW = '',\n",
    "                           HelT = '',\n",
    "                           ProT = '',\n",
    "                           Roll = '')\n",
    "    return id_slider\n",
    "        "
   ]
  },
  {
   "cell_type": "code",
   "execution_count": 74,
   "metadata": {},
   "outputs": [],
   "source": [
    "WT_sliders1 = read_data ('Park97_0min.data')\n",
    "WT_sliders2 = read_data ('Park97_30min.data')"
   ]
  },
  {
   "attachments": {},
   "cell_type": "markdown",
   "metadata": {},
   "source": []
  },
  {
   "cell_type": "code",
   "execution_count": 75,
   "metadata": {},
   "outputs": [],
   "source": [
    "# plot cleavages and dyad signals (before)\n",
    "graph.plot_sig(WT_sliders1, \n",
    "               [Slider.get_top_cutmap, Slider.get_bottom_cutmap, Slider.get_dyadmap], \n",
    "               label=['Top', 'Bottom', 'Dyad'], \n",
    "               alpha=[0.25, 0.25, 1], \n",
    "               xticks=[[i+tlen/2 for i in range(-100, 101, 20)], [str(i) for i in range(-100, 101, 20)]],\n",
    "               save='pdf', note='_before')"
   ]
  },
  {
   "cell_type": "code",
   "execution_count": 76,
   "metadata": {},
   "outputs": [],
   "source": [
    "# plot cleavages and dyad signals (after)\n",
    "graph.plot_sig(WT_sliders2, \n",
    "               [Slider.get_top_cutmap, Slider.get_bottom_cutmap, Slider.get_dyadmap], \n",
    "               label=['Top', 'Bottom', 'Dyad'], \n",
    "               alpha=[0.25, 0.25, 1],\n",
    "               xticks=[[i+tlen/2 for i in range(-100, 101, 20)], [str(i) for i in range(-100, 101, 20)]],\n",
    "               save='pdf', note='_after')"
   ]
  },
  {
   "cell_type": "code",
   "execution_count": null,
   "metadata": {},
   "outputs": [],
   "source": []
  }
 ],
 "metadata": {
  "kernelspec": {
   "display_name": "Python 3",
   "language": "python",
   "name": "python3"
  },
  "language_info": {
   "codemirror_mode": {
    "name": "ipython",
    "version": 2
   },
   "file_extension": ".py",
   "mimetype": "text/x-python",
   "name": "python",
   "nbconvert_exporter": "python",
   "pygments_lexer": "ipython2",
   "version": "2.7.18"
  }
 },
 "nbformat": 4,
 "nbformat_minor": 2
}
